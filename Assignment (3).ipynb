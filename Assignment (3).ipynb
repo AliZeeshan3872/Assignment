{
 "cells": [
  {
   "cell_type": "code",
   "execution_count": 13,
   "metadata": {},
   "outputs": [],
   "source": [
    "Str=\"My first string\""
   ]
  },
  {
   "cell_type": "code",
   "execution_count": 6,
   "metadata": {},
   "outputs": [
    {
     "name": "stdout",
     "output_type": "stream",
     "text": [
      "Upper Case\n",
      "MY FIRST STRING\n"
     ]
    }
   ],
   "source": [
    "print(\"Upper Case\")\n",
    "print(Str.upper())"
   ]
  },
  {
   "cell_type": "code",
   "execution_count": 15,
   "metadata": {},
   "outputs": [
    {
     "name": "stdout",
     "output_type": "stream",
     "text": [
      "counting no of \"S\" in Str\n",
      "2\n"
     ]
    }
   ],
   "source": [
    "print (\"counting no of \\\"S\\\" in Str\")\n",
    "print(Str.count(\"s\"))"
   ]
  },
  {
   "cell_type": "code",
   "execution_count": 17,
   "metadata": {},
   "outputs": [
    {
     "name": "stdout",
     "output_type": "stream",
     "text": [
      "Checking if the case of the Str is upper or no\n",
      "False\n"
     ]
    }
   ],
   "source": [
    "print(\"Checking if the case of the Str is upper or no\")\n",
    "print(Str.isupper())"
   ]
  },
  {
   "cell_type": "code",
   "execution_count": 19,
   "metadata": {},
   "outputs": [
    {
     "name": "stdout",
     "output_type": "stream",
     "text": [
      "Finding index of name substring in Str\n",
      "9\n"
     ]
    }
   ],
   "source": [
    "print(\"Finding index of name substring in Str\")\n",
    "print(Str.index(\"string\"))"
   ]
  },
  {
   "cell_type": "code",
   "execution_count": 20,
   "metadata": {},
   "outputs": [
    {
     "name": "stdout",
     "output_type": "stream",
     "text": [
      "Swapping the Case of the MyString\n",
      "mY FIRST STRING\n"
     ]
    }
   ],
   "source": [
    "print (\"Swapping the Case of the MyString\")\n",
    "print (Str.swapcase())"
   ]
  },
  {
   "cell_type": "code",
   "execution_count": 11,
   "metadata": {},
   "outputs": [
    {
     "name": "stdout",
     "output_type": "stream",
     "text": [
      "Length of the MyString is\n",
      "15\n"
     ]
    }
   ],
   "source": [
    "print(\"Length of the MyString is\")\n",
    "print(Str.__len__())"
   ]
  }
 ],
 "metadata": {
  "kernelspec": {
   "display_name": "Python 3",
   "language": "python",
   "name": "python3"
  },
  "language_info": {
   "codemirror_mode": {
    "name": "ipython",
    "version": 3
   },
   "file_extension": ".py",
   "mimetype": "text/x-python",
   "name": "python",
   "nbconvert_exporter": "python",
   "pygments_lexer": "ipython3",
   "version": "3.7.4"
  }
 },
 "nbformat": 4,
 "nbformat_minor": 2
}
